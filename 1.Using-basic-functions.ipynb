{
 "cells": [
  {
   "cell_type": "code",
   "execution_count": 1,
   "id": "eae54ff5",
   "metadata": {
    "slideshow": {
     "slide_type": "slide"
    }
   },
   "outputs": [],
   "source": [
    "import torch\n",
    "from torch.utils.data import DataLoader, TensorDataset\n",
    "import matplotlib.pyplot as plt"
   ]
  },
  {
   "cell_type": "markdown",
   "id": "22326d97",
   "metadata": {
    "slideshow": {
     "slide_type": "slide"
    }
   },
   "source": [
    "# Toy dataset"
   ]
  },
  {
   "cell_type": "code",
   "execution_count": 2,
   "id": "f1016e10",
   "metadata": {
    "slideshow": {
     "slide_type": "fragment"
    }
   },
   "outputs": [],
   "source": [
    "Train_X = torch.arange(10).to(torch.float32).reshape(10,1)\n",
    "Train_X_Norm = (Train_X - Train_X.mean())/ Train_X.std()"
   ]
  },
  {
   "cell_type": "code",
   "execution_count": 3,
   "id": "3d63ffc2",
   "metadata": {
    "slideshow": {
     "slide_type": "fragment"
    }
   },
   "outputs": [],
   "source": [
    "Train_Y = torch.tensor([1.6, 1.9, 3.7, 2.6, 5.6, 6.9, 7.2, 8.0, 8.6, 9.6])"
   ]
  },
  {
   "cell_type": "markdown",
   "id": "865fa6ad",
   "metadata": {
    "slideshow": {
     "slide_type": "slide"
    }
   },
   "source": [
    "# Initialize Dataloader iterator"
   ]
  },
  {
   "cell_type": "code",
   "execution_count": 4,
   "id": "58045ec8",
   "metadata": {
    "slideshow": {
     "slide_type": "fragment"
    }
   },
   "outputs": [
    {
     "data": {
      "text/plain": [
       "(tensor([1.4863]), tensor(9.6000))"
      ]
     },
     "execution_count": 4,
     "metadata": {},
     "output_type": "execute_result"
    }
   ],
   "source": [
    "toy_data = TensorDataset(Train_X_Norm, Train_Y)\n",
    "toy_data[9]"
   ]
  },
  {
   "cell_type": "code",
   "execution_count": 5,
   "id": "5e25e07d",
   "metadata": {
    "slideshow": {
     "slide_type": "fragment"
    }
   },
   "outputs": [
    {
     "data": {
      "text/plain": [
       "[tensor([[-1.4863],\n",
       "         [-1.1560],\n",
       "         [-0.8257],\n",
       "         [-0.4954],\n",
       "         [-0.1651]]),\n",
       " tensor([1.6000, 1.9000, 3.7000, 2.6000, 5.6000])]"
      ]
     },
     "execution_count": 5,
     "metadata": {},
     "output_type": "execute_result"
    }
   ],
   "source": [
    "data = DataLoader(toy_data, batch_size=5)\n",
    "next(iter(data))"
   ]
  },
  {
   "cell_type": "code",
   "execution_count": 6,
   "id": "be69a8c6",
   "metadata": {},
   "outputs": [
    {
     "name": "stdout",
     "output_type": "stream",
     "text": [
      "tensor([[-1.4863],\n",
      "        [-1.1560],\n",
      "        [-0.8257],\n",
      "        [-0.4954],\n",
      "        [-0.1651]]) tensor([1.6000, 1.9000, 3.7000, 2.6000, 5.6000])\n",
      "\n",
      "tensor([[0.1651],\n",
      "        [0.4954],\n",
      "        [0.8257],\n",
      "        [1.1560],\n",
      "        [1.4863]]) tensor([6.9000, 7.2000, 8.0000, 8.6000, 9.6000])\n",
      "\n"
     ]
    }
   ],
   "source": [
    "for x,y in data:\n",
    "    print(x,y)\n",
    "    print()"
   ]
  },
  {
   "cell_type": "markdown",
   "id": "ebb1e2cd",
   "metadata": {
    "slideshow": {
     "slide_type": "slide"
    }
   },
   "source": [
    "# Model, Loss function, optimizer function"
   ]
  },
  {
   "cell_type": "code",
   "execution_count": 7,
   "id": "a1abd605",
   "metadata": {
    "slideshow": {
     "slide_type": "fragment"
    }
   },
   "outputs": [],
   "source": [
    "def loss_func(prediction, label):\n",
    "    return ((label - prediction).pow(2)).mean()"
   ]
  },
  {
   "cell_type": "code",
   "execution_count": 8,
   "id": "ecf08abb",
   "metadata": {
    "slideshow": {
     "slide_type": "fragment"
    }
   },
   "outputs": [],
   "source": [
    "class Net():\n",
    "    def __init__(self, in_features):\n",
    "        self.w =  torch.rand(in_features,1) #torch.tensor([1.0]).reshape(-1,1)#\n",
    "        self.b =  torch.rand(in_features,1) #torch.tensor([1.0]).reshape(-1,1)#\n",
    "    def forward(self,x):\n",
    "        z =  x @ self.w + self.b\n",
    "        return z"
   ]
  },
  {
   "cell_type": "code",
   "execution_count": 9,
   "id": "fbf2883f",
   "metadata": {
    "slideshow": {
     "slide_type": "fragment"
    }
   },
   "outputs": [],
   "source": [
    "model = Net(1)"
   ]
  },
  {
   "cell_type": "code",
   "execution_count": 10,
   "id": "22bde6eb",
   "metadata": {
    "slideshow": {
     "slide_type": "fragment"
    }
   },
   "outputs": [
    {
     "data": {
      "text/plain": [
       "(tensor([[0.8789]]), tensor([[0.2731]]))"
      ]
     },
     "execution_count": 10,
     "metadata": {},
     "output_type": "execute_result"
    }
   ],
   "source": [
    "model.w, model.b"
   ]
  },
  {
   "cell_type": "markdown",
   "id": "037374be",
   "metadata": {
    "slideshow": {
     "slide_type": "slide"
    }
   },
   "source": [
    "# Train"
   ]
  },
  {
   "cell_type": "code",
   "execution_count": 11,
   "id": "783e53de",
   "metadata": {
    "slideshow": {
     "slide_type": "fragment"
    }
   },
   "outputs": [],
   "source": [
    "def train(model, epoch, data):\n",
    "    lr = 0.01\n",
    "    for i in range(epoch):\n",
    "        for x, y in data:\n",
    "            y = y.reshape(-1,1)\n",
    "            pred = model.forward(x)\n",
    "            \n",
    "            # loss calculated\n",
    "            loss = loss_func(pred, y)\n",
    "            \n",
    "            # gradients to backpropagate\n",
    "            dw = -torch.sum((y - pred) * x)\n",
    "            db = -torch.sum((y - pred))\n",
    "            \n",
    "            #Update paramters\n",
    "            model.w = model.w - lr * dw\n",
    "            model.b  = model.b -  lr * db \n",
    "        if i % 10 == 0:\n",
    "            print(f\"Epoch: {i+1}, Error: {loss:.4f}\")#\", \\tgradient_W: {dw:.2f},\\t gradient_b: {db:.2f}, \\tW: {model.w}, \\tb: {model.b}\")"
   ]
  },
  {
   "cell_type": "code",
   "execution_count": 12,
   "id": "a03ade51",
   "metadata": {
    "slideshow": {
     "slide_type": "slide"
    }
   },
   "outputs": [
    {
     "name": "stdout",
     "output_type": "stream",
     "text": [
      "Epoch: 1, Error: 49.2468\n",
      "Epoch: 11, Error: 6.8482\n",
      "Epoch: 21, Error: 1.1410\n",
      "Epoch: 31, Error: 0.3371\n",
      "Epoch: 41, Error: 0.2128\n",
      "Epoch: 51, Error: 0.1902\n",
      "Epoch: 61, Error: 0.1851\n",
      "Epoch: 71, Error: 0.1837\n",
      "Epoch: 81, Error: 0.1833\n",
      "Epoch: 91, Error: 0.1832\n",
      "Epoch: 101, Error: 0.1831\n",
      "Epoch: 111, Error: 0.1831\n",
      "Epoch: 121, Error: 0.1831\n",
      "Epoch: 131, Error: 0.1831\n",
      "Epoch: 141, Error: 0.1831\n",
      "Epoch: 151, Error: 0.1831\n",
      "Epoch: 161, Error: 0.1831\n",
      "Epoch: 171, Error: 0.1831\n",
      "Epoch: 181, Error: 0.1831\n",
      "Epoch: 191, Error: 0.1831\n"
     ]
    }
   ],
   "source": [
    "train(model, 200, data )"
   ]
  },
  {
   "cell_type": "markdown",
   "id": "80befe67",
   "metadata": {
    "slideshow": {
     "slide_type": "slide"
    }
   },
   "source": [
    "# To visualize regression line"
   ]
  },
  {
   "cell_type": "code",
   "execution_count": 13,
   "id": "4e8c91c4",
   "metadata": {
    "slideshow": {
     "slide_type": "fragment"
    }
   },
   "outputs": [],
   "source": [
    "prediction = model.forward(Train_X_Norm)"
   ]
  },
  {
   "cell_type": "code",
   "execution_count": null,
   "id": "ffd8fc92",
   "metadata": {
    "scrolled": false,
    "slideshow": {
     "slide_type": "fragment"
    }
   },
   "outputs": [],
   "source": [
    "plt.plot(Train_X_Norm,\n",
    "         Train_Y,\n",
    "         linestyle=\"\",\n",
    "         marker=\"D\")\n",
    "\n",
    "plt.plot(Train_X_Norm,\n",
    "         prediction,\n",
    "         linestyle=\"--\")\n",
    "\n",
    "\n",
    "plt.xlabel(\"$x$\", size=18)\n",
    "plt.ylabel(\"$y$\", size=18)\n",
    "\n",
    "plt.legend(['Training Example', 'Prediction'])"
   ]
  },
  {
   "cell_type": "code",
   "execution_count": null,
   "id": "fe1eeaf0",
   "metadata": {},
   "outputs": [],
   "source": []
  }
 ],
 "metadata": {
  "celltoolbar": "Slideshow",
  "kernelspec": {
   "display_name": "Python 3 (ipykernel)",
   "language": "python",
   "name": "python3"
  },
  "language_info": {
   "codemirror_mode": {
    "name": "ipython",
    "version": 3
   },
   "file_extension": ".py",
   "mimetype": "text/x-python",
   "name": "python",
   "nbconvert_exporter": "python",
   "pygments_lexer": "ipython3",
   "version": "3.9.12"
  }
 },
 "nbformat": 4,
 "nbformat_minor": 5
}
