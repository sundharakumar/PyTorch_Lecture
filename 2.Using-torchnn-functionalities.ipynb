{
 "cells": [
  {
   "cell_type": "code",
   "execution_count": 2,
   "id": "f3eb46f0",
   "metadata": {},
   "outputs": [],
   "source": [
    "import torch\n",
    "import torch.nn as nn\n",
    "from torch.optim import SGD\n",
    "from torch.utils.data import DataLoader, TensorDataset\n",
    "import matplotlib.pyplot as plt"
   ]
  },
  {
   "cell_type": "markdown",
   "id": "e7a04ca9",
   "metadata": {},
   "source": [
    "# Toy data"
   ]
  },
  {
   "cell_type": "code",
   "execution_count": 3,
   "id": "43f5c9bd",
   "metadata": {},
   "outputs": [],
   "source": [
    "Train_X = torch.arange(10).to(torch.float32).reshape(10,1)\n",
    "Train_X_Norm = (Train_X - Train_X.mean())/ Train_X.std()\n",
    "Train_Y = torch.tensor([1.6, 1.9, 3.7, 2.6, 5.6, 6.9, 7.2, 8.0, 8.6, 9.6])"
   ]
  },
  {
   "cell_type": "code",
   "execution_count": 4,
   "id": "1bbdeeba",
   "metadata": {},
   "outputs": [],
   "source": [
    "toy_data = TensorDataset(Train_X_Norm, Train_Y)\n",
    "data = DataLoader(toy_data, batch_size=5)"
   ]
  },
  {
   "cell_type": "markdown",
   "id": "342e739e",
   "metadata": {},
   "source": [
    "# Model, Loss function, optimizer function"
   ]
  },
  {
   "cell_type": "code",
   "execution_count": 5,
   "id": "456953be",
   "metadata": {},
   "outputs": [],
   "source": [
    "class Net(nn.Module):\n",
    "    def __init__(self, in_features, out_features):\n",
    "        super().__init__()\n",
    "        self.L = nn.Linear(in_features, out_features)\n",
    "    def forward(self,x):\n",
    "        x = self.L(x)\n",
    "        return x"
   ]
  },
  {
   "cell_type": "code",
   "execution_count": 12,
   "id": "ed4f8993",
   "metadata": {},
   "outputs": [],
   "source": [
    "model = Net(1, 1)\n",
    "loss_func = nn.MSELoss()\n",
    "optimizer = SGD(model.parameters(), lr=0.001)"
   ]
  },
  {
   "cell_type": "code",
   "execution_count": 13,
   "id": "9e6cbf07",
   "metadata": {},
   "outputs": [
    {
     "name": "stdout",
     "output_type": "stream",
     "text": [
      "Parameter containing:\n",
      "tensor([[-0.8802]], requires_grad=True)\n",
      "Parameter containing:\n",
      "tensor([-0.0009], requires_grad=True)\n"
     ]
    }
   ],
   "source": [
    "for i in model.parameters():\n",
    "    print(i)"
   ]
  },
  {
   "cell_type": "markdown",
   "id": "45458502",
   "metadata": {},
   "source": [
    "# Training"
   ]
  },
  {
   "cell_type": "code",
   "execution_count": 14,
   "id": "3f0b70cd",
   "metadata": {},
   "outputs": [],
   "source": [
    "def train(model, epoch, data):\n",
    "    for i in range(epoch):\n",
    "        for x, y in data:\n",
    "            pred = model(x)\n",
    "            loss = loss_func(pred, y)\n",
    "            loss.backward()\n",
    "\n",
    "            #Update paramters\n",
    "            optimizer.step()\n",
    "            optimizer.zero_grad()\n",
    "        if i % 10 == 0:\n",
    "            print(f\"Epoch: {i+1}, Error: {loss}\")"
   ]
  },
  {
   "cell_type": "code",
   "execution_count": 15,
   "id": "f6c04afb",
   "metadata": {},
   "outputs": [
    {
     "name": "stdout",
     "output_type": "stream",
     "text": [
      "Epoch: 1, Error: 115.96316528320312\n",
      "Epoch: 11, Error: 78.62408447265625\n",
      "Epoch: 21, Error: 53.22451400756836\n",
      "Epoch: 31, Error: 35.959983825683594\n",
      "Epoch: 41, Error: 24.23653793334961\n",
      "Epoch: 51, Error: 16.28571891784668\n",
      "Epoch: 61, Error: 10.90200138092041\n",
      "Epoch: 71, Error: 7.263789176940918\n",
      "Epoch: 81, Error: 4.811365127563477\n",
      "Epoch: 91, Error: 3.1634628772735596\n",
      "Epoch: 101, Error: 2.060619592666626\n",
      "Epoch: 111, Error: 1.3263448476791382\n",
      "Epoch: 121, Error: 0.8406875133514404\n",
      "Epoch: 131, Error: 0.5222251415252686\n",
      "Epoch: 141, Error: 0.3157735764980316\n",
      "Epoch: 151, Error: 0.18399836122989655\n",
      "Epoch: 161, Error: 0.1016954556107521\n",
      "Epoch: 171, Error: 0.05189822241663933\n",
      "Epoch: 181, Error: 0.02323245070874691\n",
      "Epoch: 191, Error: 0.008102087303996086\n"
     ]
    }
   ],
   "source": [
    "train(model, 200, data )"
   ]
  },
  {
   "cell_type": "markdown",
   "id": "0cb5d869",
   "metadata": {},
   "source": [
    "# To visualize regression line"
   ]
  },
  {
   "cell_type": "code",
   "execution_count": 13,
   "id": "b5a2315e",
   "metadata": {},
   "outputs": [],
   "source": [
    "prediction = model(Train_X_Norm).detach()"
   ]
  },
  {
   "cell_type": "code",
   "execution_count": 14,
   "id": "5a58fab4",
   "metadata": {},
   "outputs": [
    {
     "data": {
      "text/plain": [
       "<matplotlib.legend.Legend at 0x14a1b63a0>"
      ]
     },
     "execution_count": 14,
     "metadata": {},
     "output_type": "execute_result"
    },
    {
     "data": {
      "image/png": "[encoded data removed]",
      "text/plain": [
       "<Figure size 640x480 with 1 Axes>"
      ]
     },
     "metadata": {},
     "output_type": "display_data"
    }
   ],
   "source": [
    "plt.plot(Train_X_Norm,\n",
    "         Train_Y,\n",
    "         linestyle=\"\",\n",
    "         marker=\"D\")\n",
    "\n",
    "plt.plot(Train_X_Norm,\n",
    "         prediction,\n",
    "         linestyle=\"--\")\n",
    "\n",
    "\n",
    "plt.xlabel(\"$x$\", size=18)\n",
    "plt.ylabel(\"$y$\", size=18)\n",
    "\n",
    "plt.legend(['Training Example', 'Prediction'])"
   ]
  },
  {
   "cell_type": "code",
   "execution_count": null,
   "id": "7e8e1945",
   "metadata": {},
   "outputs": [],
   "source": []
  }
 ],
 "metadata": {
  "kernelspec": {
   "display_name": "Python 3 (ipykernel)",
   "language": "python",
   "name": "python3"
  },
  "language_info": {
   "codemirror_mode": {
    "name": "ipython",
    "version": 3
   },
   "file_extension": ".py",
   "mimetype": "text/x-python",
   "name": "python",
   "nbconvert_exporter": "python",
   "pygments_lexer": "ipython3",
   "version": "3.9.12"
  }
 },
 "nbformat": 4,
 "nbformat_minor": 5
}
