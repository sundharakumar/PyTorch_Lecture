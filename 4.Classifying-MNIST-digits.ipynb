{
 "cells": [
  {
   "cell_type": "code",
   "execution_count": 1,
   "id": "0351d84f",
   "metadata": {},
   "outputs": [
    {
     "name": "stderr",
     "output_type": "stream",
     "text": [
      "/Users/muhammadwaseem/miniconda3/envs/torch/lib/python3.9/site-packages/torchvision/io/image.py:13: UserWarning: Failed to load image Python extension: dlopen(/Users/muhammadwaseem/miniconda3/envs/torch/lib/python3.9/site-packages/torchvision/image.so, 0x0006): Symbol not found: __ZN2at4_ops19empty_memory_format4callEN3c108ArrayRefIxEENS2_8optionalINS2_10ScalarTypeEEENS5_INS2_6LayoutEEENS5_INS2_6DeviceEEENS5_IbEENS5_INS2_12MemoryFormatEEE\n",
      "  Referenced from: <CAE66874-17C2-35C9-9C4D-6BA9770AF17F> /Users/muhammadwaseem/miniconda3/envs/torch/lib/python3.9/site-packages/torchvision/image.so\n",
      "  Expected in:     <459875AA-DE2C-366B-9C44-90D4B3887080> /Users/muhammadwaseem/miniconda3/envs/torch/lib/python3.9/site-packages/torch/lib/libtorch_cpu.dylib\n",
      "  warn(f\"Failed to load image Python extension: {e}\")\n"
     ]
    }
   ],
   "source": [
    "import torch\n",
    "from torchvision.datasets import MNIST\n",
    "from torchvision.transforms import ToTensor\n",
    "from torch.utils.data import DataLoader\n",
    "from torch.optim import SGD\n",
    "import torch.nn as nn\n",
    "\n",
    "import matplotlib.pyplot as plt\n",
    "import numpy as np"
   ]
  },
  {
   "cell_type": "markdown",
   "id": "0c90b33c",
   "metadata": {},
   "source": [
    "## Data loading"
   ]
  },
  {
   "cell_type": "code",
   "execution_count": 2,
   "id": "5eafdc0f",
   "metadata": {},
   "outputs": [],
   "source": [
    "path = './'\n",
    "\n",
    "mnist_train_data = MNIST(root = path,\n",
    "                         train = True,\n",
    "                         transform = ToTensor(),\n",
    "                         download = True)\n",
    "mnist_test_data = MNIST(root = path,\n",
    "                        train = False,\n",
    "                        transform = ToTensor(),\n",
    "                        download = True)"
   ]
  },
  {
   "cell_type": "code",
   "execution_count": 3,
   "id": "7cad9aa1",
   "metadata": {},
   "outputs": [
    {
     "data": {
      "text/plain": [
       "(Dataset MNIST\n",
       "     Number of datapoints: 60000\n",
       "     Root location: ./\n",
       "     Split: Train\n",
       "     StandardTransform\n",
       " Transform: ToTensor(),\n",
       " Dataset MNIST\n",
       "     Number of datapoints: 10000\n",
       "     Root location: ./\n",
       "     Split: Test\n",
       "     StandardTransform\n",
       " Transform: ToTensor())"
      ]
     },
     "execution_count": 3,
     "metadata": {},
     "output_type": "execute_result"
    }
   ],
   "source": [
    "mnist_train_data, mnist_test_data"
   ]
  },
  {
   "cell_type": "code",
   "execution_count": 4,
   "id": "1f5048b0",
   "metadata": {},
   "outputs": [],
   "source": [
    "batch_size = 64\n",
    "data = DataLoader(mnist_train_data, batch_size=batch_size, shuffle=True)"
   ]
  },
  {
   "cell_type": "markdown",
   "id": "6735bb2b",
   "metadata": {},
   "source": [
    "## Model"
   ]
  },
  {
   "cell_type": "code",
   "execution_count": 5,
   "id": "d2b19ab5",
   "metadata": {},
   "outputs": [],
   "source": [
    "Model = nn.Sequential(\n",
    "    nn.Flatten(),\n",
    "    nn.Linear(784, 32),\n",
    "    nn.ReLU(),\n",
    "    nn.Linear(32, 16),\n",
    "    nn.ReLU(),\n",
    "    nn.Linear(16,10)\n",
    ")"
   ]
  },
  {
   "cell_type": "code",
   "execution_count": 6,
   "id": "6a0d1483",
   "metadata": {},
   "outputs": [],
   "source": [
    "# class Net(nn.Module):\n",
    "#     def __init__(self, in_features, out_features):\n",
    "#         super().__init__()\n",
    "#         f1 = nn.Flatten()\n",
    "#         l1 = nn.Linear(in_features, 32)\n",
    "#         a1 = nn.ReLU()\n",
    "#         l2 = nn.Linear(32, 16)\n",
    "#         a2 = nn.ReLU()\n",
    "#         l3 = nn.Linear(16, out_features)\n",
    "#         L = [f1,l1,a1,l2,a2,l3]\n",
    "#         self.layers = nn.ModuleList(L)\n",
    "#     def forward(self, x):\n",
    "#         for layer in self.layers:\n",
    "#             x = layer(x)\n",
    "#         return x\n",
    "# Model = Net(786, 10)"
   ]
  },
  {
   "cell_type": "code",
   "execution_count": 8,
   "id": "23b4df7c",
   "metadata": {},
   "outputs": [
    {
     "data": {
      "text/plain": [
       "Sequential(\n",
       "  (0): Flatten(start_dim=1, end_dim=-1)\n",
       "  (1): Linear(in_features=784, out_features=32, bias=True)\n",
       "  (2): ReLU()\n",
       "  (3): Linear(in_features=32, out_features=16, bias=True)\n",
       "  (4): ReLU()\n",
       "  (5): Linear(in_features=16, out_features=10, bias=True)\n",
       ")"
      ]
     },
     "execution_count": 8,
     "metadata": {},
     "output_type": "execute_result"
    }
   ],
   "source": [
    "torch.manual_seed(1)\n",
    "Model"
   ]
  },
  {
   "cell_type": "code",
   "execution_count": 10,
   "id": "df009c28",
   "metadata": {},
   "outputs": [],
   "source": [
    "loss_func = nn.CrossEntropyLoss()\n",
    "optimizer = SGD(Model.parameters(), lr=0.003)"
   ]
  },
  {
   "cell_type": "code",
   "execution_count": 11,
   "id": "8a4f332a",
   "metadata": {},
   "outputs": [],
   "source": [
    "def train(model, epoch, data):\n",
    "    Training_loss = [0] * epoch\n",
    "    Training_accuracy = [0] * epoch\n",
    "#     Test_loss = [0] * epoch\n",
    "#     Test_accuracy = [0] * epoch\n",
    "\n",
    "    for i in range(epoch):\n",
    "        \n",
    "        ## Training Phase\n",
    "        for x_batch, y_batch in data:\n",
    "            # Predictions after forward pass\n",
    "            pred = Model(x_batch)\n",
    "            \n",
    "            # Calculating loss\n",
    "            loss = loss_func(pred, y_batch)\n",
    "            \n",
    "            # Calculating gradients\n",
    "            loss.backward()\n",
    "            \n",
    "            # Updating gradients and resetting to zero(to avoid accumulating)\n",
    "            optimizer.step()\n",
    "            optimizer.zero_grad()\n",
    "            \n",
    "            # Calculating **Sum of** Train loss and accuracy for each BATCH\n",
    "            Training_loss[i] += loss.item() * x_batch.size(0)\n",
    "            softmax = torch.softmax(pred, axis=1)\n",
    "            correct_cnt = (torch.argmax(softmax, axis=1) == y_batch).sum()\n",
    "            Training_accuracy[i] += correct_cnt.item()\n",
    "            \n",
    "        # Calculate **Average** train loss and accuracy for each EPOCH\n",
    "        Training_loss[i] /= len(data.dataset)\n",
    "        Training_accuracy[i] /= len(data.dataset)\n",
    "        \n",
    "        print(f\"Epoch: {i+1}, Loss: {Training_loss[i]}, Accuracy: {Training_accuracy[i]}\")\n",
    "    return Training_loss, Training_accuracy#, Test_loss, Test_accuracy"
   ]
  },
  {
   "cell_type": "code",
   "execution_count": 12,
   "id": "c8935c72",
   "metadata": {},
   "outputs": [
    {
     "name": "stdout",
     "output_type": "stream",
     "text": [
      "Epoch: 1, Loss: 2.272375662612915, Accuracy: 0.20546666666666666\n",
      "Epoch: 2, Loss: 2.082053226153056, Accuracy: 0.39798333333333336\n",
      "Epoch: 3, Loss: 1.6355042161941529, Accuracy: 0.5757166666666667\n",
      "Epoch: 4, Loss: 1.092938087717692, Accuracy: 0.7334666666666667\n",
      "Epoch: 5, Loss: 0.7545281814575195, Accuracy: 0.80035\n",
      "Epoch: 6, Loss: 0.6022098314285278, Accuracy: 0.83455\n",
      "Epoch: 7, Loss: 0.5215864067077637, Accuracy: 0.85595\n",
      "Epoch: 8, Loss: 0.4720823108990987, Accuracy: 0.8685666666666667\n",
      "Epoch: 9, Loss: 0.4390997749169668, Accuracy: 0.8765666666666667\n",
      "Epoch: 10, Loss: 0.41568865728378296, Accuracy: 0.8824333333333333\n",
      "Epoch: 11, Loss: 0.3978498578548431, Accuracy: 0.8869666666666667\n",
      "Epoch: 12, Loss: 0.3835001739025116, Accuracy: 0.8913666666666666\n",
      "Epoch: 13, Loss: 0.3713238467534383, Accuracy: 0.8949\n",
      "Epoch: 14, Loss: 0.3609425377527873, Accuracy: 0.8977833333333334\n",
      "Epoch: 15, Loss: 0.35157105704943337, Accuracy: 0.90065\n",
      "Epoch: 16, Loss: 0.34320742403666177, Accuracy: 0.9037166666666666\n",
      "Epoch: 17, Loss: 0.3357030133326848, Accuracy: 0.9051\n",
      "Epoch: 18, Loss: 0.3286889658053716, Accuracy: 0.90665\n",
      "Epoch: 19, Loss: 0.3223286585489909, Accuracy: 0.9081333333333333\n",
      "Epoch: 20, Loss: 0.31621997962792714, Accuracy: 0.9096\n"
     ]
    }
   ],
   "source": [
    "epoch = 20\n",
    "Training_loss, Training_accuracy = train(Model, epoch, data)"
   ]
  },
  {
   "cell_type": "markdown",
   "id": "3aeb4156",
   "metadata": {},
   "source": [
    "Possible Error : RuntimeError: result type Float can't be cast to the desired output type Long <br>\n",
    "Rectified by : correct_cnt.item() in line 15 of above cell"
   ]
  },
  {
   "cell_type": "code",
   "execution_count": 13,
   "id": "5a83fda2",
   "metadata": {},
   "outputs": [
    {
     "data": {
      "image/png": "[encoded data removed]",
      "text/plain": [
       "<Figure size 1200x500 with 2 Axes>"
      ]
     },
     "metadata": {},
     "output_type": "display_data"
    }
   ],
   "source": [
    "plt.figure(figsize=(12,5))\n",
    "plt.subplot(1,2,1)\n",
    "plt.plot(np.arange(epoch), Training_loss, lw=3)\n",
    "# plt.plot(np.arange(epoch), Test_loss, lw=3)\n",
    "plt.xlabel(\"$Epoch$\", size=12)\n",
    "plt.title(\"Loss\")\n",
    "plt.legend([\"Train\"])\n",
    "\n",
    "plt.subplot(1,2,2)\n",
    "plt.plot(np.arange(epoch), Training_accuracy, lw=3)\n",
    "# plt.plot(np.arange(epoch), Test_accuracy, lw=3)\n",
    "plt.xlabel(\"$Epoch$\", size=12)\n",
    "plt.title(\"Accuracy\")\n",
    "plt.legend([\"Train\"])\n",
    "plt.tight_layout()"
   ]
  },
  {
   "cell_type": "markdown",
   "id": "3520202e",
   "metadata": {},
   "source": [
    "## Test data accuracy"
   ]
  },
  {
   "cell_type": "code",
   "execution_count": 14,
   "id": "cac6df37",
   "metadata": {},
   "outputs": [
    {
     "data": {
      "text/plain": [
       "torch.Size([10000, 10])"
      ]
     },
     "execution_count": 14,
     "metadata": {},
     "output_type": "execute_result"
    }
   ],
   "source": [
    "prediction = Model(mnist_test_data.data.to(torch.float32))\n",
    "prediction.shape"
   ]
  },
  {
   "cell_type": "code",
   "execution_count": 15,
   "id": "33ef680c",
   "metadata": {},
   "outputs": [
    {
     "data": {
      "text/plain": [
       "torch.Size([10000])"
      ]
     },
     "execution_count": 15,
     "metadata": {},
     "output_type": "execute_result"
    }
   ],
   "source": [
    "mnist_test_data.targets.to(torch.float32).shape"
   ]
  },
  {
   "cell_type": "code",
   "execution_count": 16,
   "id": "1dd34643",
   "metadata": {},
   "outputs": [
    {
     "name": "stdout",
     "output_type": "stream",
     "text": [
      "Test data accuracy: 90.64%\n"
     ]
    }
   ],
   "source": [
    "correct_cnt = (\n",
    "    torch.argmax(prediction, dim=1) == mnist_test_data.targets.to(torch.float32)\n",
    "    ).sum()\n",
    "\n",
    "print(f\"Test data accuracy: {correct_cnt/len(mnist_test_data.targets) * 100:.2f}%\")"
   ]
  },
  {
   "cell_type": "code",
   "execution_count": null,
   "id": "2729690a",
   "metadata": {},
   "outputs": [],
   "source": []
  }
 ],
 "metadata": {
  "kernelspec": {
   "display_name": "Python 3 (ipykernel)",
   "language": "python",
   "name": "python3"
  },
  "language_info": {
   "codemirror_mode": {
    "name": "ipython",
    "version": 3
   },
   "file_extension": ".py",
   "mimetype": "text/x-python",
   "name": "python",
   "nbconvert_exporter": "python",
   "pygments_lexer": "ipython3",
   "version": "3.9.12"
  }
 },
 "nbformat": 4,
 "nbformat_minor": 5
}
